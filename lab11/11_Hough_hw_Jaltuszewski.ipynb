{
 "cells": [
  {
   "cell_type": "markdown",
   "metadata": {},
   "source": [
    "### Transformata Hougha w przestrzeni ab - Domowe\n",
    "Przestrzeń ρ,θ nie jest jedyną przestrzenią w której punkt odpowiada parametrom prostej. Np. można spróbować wykorzystać tradycyjne równanie prostej:\n",
    "\n",
    "y=ax+b\n",
    "\n",
    "W tej przestrzeni reprezentacją pęku prostych jest prosta. \n",
    "\n",
    "Zadanie: napisać funkcję, która jako argument przyjmuje obraz (binarny) oraz parametry:\n",
    "\n",
    "- aMin - minimalna wartość parametru a\n",
    "- aMax - maksymalna  wartość parametru a\n",
    "- aSkok - skok parametru a\n",
    "- bMin - minimalna wartość parametru b\n",
    "- bMax  - maksymalna  wartość parametru b\n",
    "- bSkok - skok parametru b\n",
    "Jako wynik ma zwrócić macierz przestrzeni Hougha ab.\n",
    "\n",
    "Uwagi:\n",
    "\n",
    "- zadanie może wyglądać na skomplikowane ale tak na prawdę wymaga tylko starannego przemyślenia\n",
    "- najważniejszy jest problem \"adresowania\" macierzy H. Można do tego wykorzystać dwa wektory A i B ze wszystkimi możliwymi wartościami jakie parametry a i b mogę przyjąć (w podanych zakresach z podanym skokiem). Wówczas indeksy tych wektorów będą współrzędnymi w macierzy H. Do stworzenia wektorów wykorzystaj funkcję _np.arange_\n",
    "- na podstawie rozmiaru wektorów A i B (własność _shape_) należy stworzyć wyzerowaną macierz H (funkcja _np.zeros_) \n",
    "- dla każdego punktu krawędzi na obrazie należy:\n",
    "    - używająć wektora A dla każdej z jego wartości a obliczyć odpowiednią wartość b - indeksy kolejnych wartości a (a_idx) będą jedną z współrzędnych macierzy H, natomiast drugą współrędną mozna uzyskać jako b_idx = np.argmin(abs(B - b)).\n",
    "        - każde a_idx i b_idx wyznaczą punkt w macierzy H, który należy zinkrementować\n",
    "- działanie funkcji należy przetestować na punktach generowanych w 'edytorku' z punktu \"Transformacja Hougha dla małej liczby punktów\". Proponowane parametry funkcji:\n",
    "    - aMin: -5\n",
    "    - aMax:  5\n",
    "    - aSkok: 0.05 \n",
    "    - bMin: -100\n",
    "    - bMax:  100\n",
    "    - bSkok: 1\n",
    "\n",
    "Zastanów się w przypadku jakich prostych reprezentacja ab nie sprawdzi się."
   ]
  },
  {
   "cell_type": "code",
   "execution_count": null,
   "metadata": {},
   "outputs": [],
   "source": [
    "import matplotlib.pyplot as plt\n",
    "import cv2\n",
    "import numpy as np\n",
    "from skimage.transform import hough_line, hough_line_peaks"
   ]
  },
  {
   "cell_type": "code",
   "execution_count": null,
   "metadata": {},
   "outputs": [],
   "source": [
    "def transform_ab(img, aMin, aMax, aSkok, bMin, bMax, bSkok):\n",
    "    A = np.arange(start=aMin, stop=aMax, step=aSkok)\n",
    "    B = np.arange(start=bMin, stop=bMax, step=bSkok)\n",
    "    H_ab = np.zeros(shape=(A.shape[0], B.shape[0]))\n",
    "\n",
    "    for i in range(img.shape[0]):\n",
    "        for j in range(img.shape[1]):\n",
    "            if img[i, j] > 0:\n",
    "                for a_idx in range(len(A)):\n",
    "                    b_v = j - A[a_idx] * i\n",
    "                    b_idx = np.argmin(np.abs(B - b_v))\n",
    "                    if b_v >= bMin and b_v <= bMax:\n",
    "                        H_ab[a_idx, b_idx] = H_ab[a_idx, b_idx] + 1\n",
    "    return H_ab\n",
    "\n",
    "def plot_img_and_Hab(img, aMin, aMax, aSkok, bMin, bMax, bSkok):\n",
    "    H_ab = transform_ab(img, aMin, aMax, aSkok, bMin, bMax, bSkok)\n",
    "\n",
    "    fig, ax = plt.subplots(1, 2, figsize=(12,6))\n",
    "    ax[0].imshow(img, 'gray')\n",
    "    ax[0].set_title(\"Oryginalny obraz binarny\")\n",
    "    ax[0].set_xticks([]), ax[0].set_yticks([])\n",
    "\n",
    "    ax[1].imshow(H_ab, 'gray')\n",
    "    ax[1].set_title(\"Obraz w przestrzeni ab\")\n"
   ]
  },
  {
   "cell_type": "code",
   "execution_count": null,
   "metadata": {},
   "outputs": [],
   "source": [
    "# two points\n",
    "img1 = np.zeros((64, 64))\n",
    "img1[19, 14] = 1\n",
    "img1[43, 44] = 1\n",
    "\n",
    "plot_img_and_Hab(img1, -5, 5, 0.05, -100, 100, 1)"
   ]
  },
  {
   "cell_type": "code",
   "execution_count": null,
   "metadata": {},
   "outputs": [],
   "source": [
    "# line points\n",
    "img2 = np.zeros((64, 64))\n",
    "img2[11, 27] = 1\n",
    "img2[20, 36] = 1\n",
    "img2[30, 46] = 1\n",
    "img2[37, 53] = 1\n",
    "img2[45, 61] = 1\n",
    "\n",
    "plot_img_and_Hab(img2, -5, 5, 0.05, -100, 100, 1)"
   ]
  },
  {
   "cell_type": "code",
   "execution_count": null,
   "metadata": {},
   "outputs": [],
   "source": [
    "# random points\n",
    "img3 = np.zeros((64, 64))\n",
    "img3[34, 46] = 1\n",
    "img3[60, 13] = 1\n",
    "img3[40, 20] = 1\n",
    "img3[30, 30] = 1\n",
    "img3[35, 36] = 1\n",
    "img3[22, 32] = 1\n",
    "img3[11, 43] = 1\n",
    "\n",
    "plot_img_and_Hab(img3, -5, 5, 0.05, -100, 100, 1)"
   ]
  }
 ],
 "metadata": {
  "celltoolbar": "Raw Cell Format",
  "kernelspec": {
   "name": "python395jvsc74a57bd0571633143b250467de1999a1c15ae67a740c8ed3ceebaf0d7850372b7d7c1896",
   "display_name": "Python 3.9.5 64-bit (windows store)"
  },
  "language_info": {
   "codemirror_mode": {
    "name": "ipython",
    "version": 3
   },
   "file_extension": ".py",
   "mimetype": "text/x-python",
   "name": "python",
   "nbconvert_exporter": "python",
   "pygments_lexer": "ipython3",
   "version": "3.9.5"
  },
  "metadata": {
   "interpreter": {
    "hash": "571633143b250467de1999a1c15ae67a740c8ed3ceebaf0d7850372b7d7c1896"
   }
  }
 },
 "nbformat": 4,
 "nbformat_minor": 2
}