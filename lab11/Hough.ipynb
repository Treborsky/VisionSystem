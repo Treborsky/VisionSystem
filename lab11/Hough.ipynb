{
 "cells": [
  {
   "cell_type": "markdown",
   "metadata": {},
   "source": [
    "# Instrukcja - Transformacja Hougha\n",
    "\n",
    "### Cel:\n",
    "- zapoznanie z transformacją Hougha dla pojedynczego punktu,\n",
    "- kilku punktów, prostych figur\n",
    "- wykorzystanie transformacji Hougha do detekcji linii prostych na rzeczywistym obrazie\n",
    "- transformacja Hougha w przestrzeni ab\n",
    "\n",
    "### Transformacja Hough'a\n",
    "\n",
    "Transformacja Hougha dla prostych jest metodą detekcji współliniowych punktów. Każda prosta może być jednoznacznie przedstawiona za pomocą dwóch parametrów. Przestrzeń tych parametrów to przestrzeń Hougha. Najczęściej wykorzystywanymi parametrami w tej metodzie są współczynniki ρ,θ\n",
    "\n",
    "opisujące równanie prostej w postaci normalnej:\n",
    "\n",
    "ρ=x⋅cos(θ)+y⋅sin(θ)\n",
    "\n",
    "gdzie: ρ - promień wodzący, θ - kąt pomiędzy ρ a osią OX.\n",
    "\n",
    "Własności transformacji Hougha:\n",
    "- prostej w przestrzeni kartezjańskiej odpowiada punkt w przestrzeni Hougha\n",
    "- pękowi prostych przechdzących przez punkt w przestrzeni kartezjańskiej odpowiada krzywa sinusoidalna w przestrzeni Hougha\n",
    "- punkty leżące na tej samej prostej (w przestrzeni kartezjańskiej) korespondują z sinusoidami przechodzącymi przez wspólny punkt w przestrzeni Hougha.\n",
    "\n",
    "Metoda wyliczania transformacji Hougha składa się z następujących kroków:\n",
    "- przez każdy badany (różny od zera) punkt obrazu prowadzony jest pęk prostych, przechodzących przez ten punkt\n",
    "- każda z tych prostych transformowana jest do przestrzeni Hougha i tworzy tam punkt o współrzędnych ρ,θ\n",
    "- w ten sposób, każdy punkt obrazu pierwotnego (pęk prostych) jest odwzorowany w sinusoidalną krzywą w przestrzeni Hougha\n",
    "\n",
    "Przestrzeń Hougha jest przestrzenią akumulacyjną tzn. punkty sinusoidalnych krzywych, wygenerowanych dla punktów obrazu pierwotnego dodają się w miejscach, w których krzywe te przecinają się. Powstałe w ten sposób (w przestrzeni Hougha) maksima odpowiadają zbiorom punktów, należących do jednej prostej. Współrzędne ρ,θ\n",
    "tego maksimum jednoznacznie określają położenie prostej na obrazie pierwotnym.\n",
    "\n",
    "### Transformacja Hougha dla małej liczby punktów.\n",
    "   1. Uruchom poniższy kod. W tablicy `im` wskaż jeden punkt, dla którego ma zostać obliczona transformata."
   ]
  },
  {
   "cell_type": "code",
   "execution_count": null,
   "metadata": {},
   "outputs": [],
   "source": [
    "import matplotlib.pyplot as plt\n",
    "import cv2\n",
    "import numpy as np\n",
    "from skimage.transform import hough_line, hough_line_peaks\n",
    "import os\n",
    "\n",
    "if not os.path.exists(\"kwadraty.png\") :\n",
    "    !wget https://raw.githubusercontent.com/vision-agh/poc_sw/master/11_Hough/kwadraty.png --no-check-certificate\n",
    "if not os.path.exists(\"lab112.png\") :\n",
    "    !wget https://raw.githubusercontent.com/vision-agh/poc_sw/master/11_Hough/lab112.png --no-check-certificate\n",
    "if not os.path.exists(\"dom.png\") :\n",
    "    !wget https://raw.githubusercontent.com/vision-agh/poc_sw/master/11_Hough/dom.png --no-check-certificate\n",
    "\n",
    "im = np.zeros((64,64), dtype=np.uint8)\n",
    "\n",
    "im[18, 31] = 1\n",
    "\n",
    "fig, ax = plt.subplots()\n",
    "fig.set_size_inches(4, 4)\n",
    "ax.imshow(im, 'gray')\n",
    "ax.axis('off')\n"
   ]
  },
  {
   "cell_type": "markdown",
   "metadata": {},
   "source": [
    "3. Wykonaj transformację Hougha obazu im. Wykorzystaj funkcję *hough_line* z modułu _skimage.transform_. Funkcja zwraca: macierz H (przestrzeń Hougha) oraz dwa wektory theta i rho dla kolejnych \n",
    "4. Wyświetl przestrzeń Hougha za pomocą funkcji _plt.imshow_ (można też wykorzystać poniższą funkcję *show_hough*). Jak \"wygląda\" pojedynczy punkt w przestrzeni Hougha?"
   ]
  },
  {
   "cell_type": "code",
   "execution_count": null,
   "metadata": {},
   "outputs": [],
   "source": [
    "def show_hough(h, image, title: str=None):\n",
    "    # Generating figure 1\n",
    "    fig, axes = plt.subplots(1, 2, figsize=(15, 6))\n",
    "    ax = axes.ravel()\n",
    "\n",
    "    ax[0].imshow(image, 'gray')\n",
    "    ax[0].set_title('Input image')\n",
    "    ax[0].set_axis_off()\n",
    "\n",
    "    ax[1].imshow(h, 'gray')\n",
    "    ax[1].set_title('Hough transform')\n",
    "    ax[1].set_xlabel('Angles (degrees)')\n",
    "    ax[1].set_ylabel('Distance (pixels)')\n",
    "    ax[1].axis('image')\n",
    "    \n",
    "    if not title is None:\n",
    "        fig.suptitle(title, weight='bold')\n",
    "\n",
    "    plt.tight_layout()\n",
    "    plt.show()    "
   ]
  },
  {
   "cell_type": "code",
   "execution_count": null,
   "metadata": {},
   "outputs": [],
   "source": [
    "H, th, rho = hough_line(im)\n",
    "show_hough(H, im)"
   ]
  },
  {
   "source": [
    "## Wnioski:\n",
    "- punkt w przestrzeni Hough'a wygląda jak krzywa siunusoidalna"
   ],
   "cell_type": "markdown",
   "metadata": {}
  },
  {
   "cell_type": "markdown",
   "metadata": {},
   "source": [
    "5. Powtórz punkty 1-4, ale tym razem klinkij dwa punkty. Jak zmienia się przestrzeń Hougha?\n",
    "6. Powtórz punkty 1-4, ale tym razem kliknij kilka punktów starając się aby były współliniowe. Zaobserwuj zmiany w przestrzeni Hougha\n",
    "7. Poeksperymentuj z różnymi układami punktów"
   ]
  },
  {
   "cell_type": "code",
   "execution_count": null,
   "metadata": {},
   "outputs": [],
   "source": [
    "def do_hough_points(img_size: tuple, xs: np.ndarray, ys: np.ndarray, title: str='Hough transform') -> None:\n",
    "\n",
    "    # xs and ys correspond to coordinates of the points, so they must share the same shape\n",
    "    if xs.shape != ys.shape:\n",
    "        raise ValueError('Wrong point set.')\n",
    "    \n",
    "    img = np.zeros(shape=img_size)\n",
    "    n,m = img.shape\n",
    "\n",
    "    for i in range(np.max(xs.shape)):\n",
    "        x, y = xs[i], ys[i]\n",
    "        if x < n and y < m:\n",
    "            img[x,y] = 1\n",
    "        else:\n",
    "            continue\n",
    "    \n",
    "    img_hough = hough_line(img)[0]\n",
    "\n",
    "    show_hough(img_hough, img, title=title)"
   ]
  },
  {
   "cell_type": "code",
   "execution_count": null,
   "metadata": {},
   "outputs": [],
   "source": [
    "x = np.array([5,10])\n",
    "y = x.copy()\n",
    "img_size = (15,15)\n",
    "do_hough_points(img_size, x, y, title='5. Two points')"
   ]
  },
  {
   "cell_type": "code",
   "execution_count": null,
   "metadata": {},
   "outputs": [],
   "source": [
    "x = np.array([5,10,15])\n",
    "y = np.array([10,10,10])\n",
    "img_size = (20,20)\n",
    "do_hough_points(img_size, x, y, title='6. Three points on one line')"
   ]
  },
  {
   "source": [
    "## Wnioski:\n",
    "- jeśli punkty są współliniowe, to transformacja hougha dla tych punktów przecinać się będzie w punkcie opisującym prostą, na której leżą."
   ],
   "cell_type": "markdown",
   "metadata": {}
  },
  {
   "cell_type": "code",
   "execution_count": null,
   "metadata": {},
   "outputs": [],
   "source": [
    "x = np.random.randint(1,200,size=(400),dtype=int)\n",
    "y = np.random.randint(1,200,size=(400),dtype=int)\n",
    "size=(200,200)\n",
    "do_hough_points(img_size=size, xs=x, ys=y, title='400 randomly generated point in 200x200 image')"
   ]
  },
  {
   "cell_type": "markdown",
   "metadata": {},
   "source": [
    "### Transformata Hougha dla pojedynczego obiektu\n",
    "\n",
    "W tym podpunkcie pokazane zostanie praktycznie wykorzystanie transformaty Hougha - do detekcji prostych na sztucznym rysunku.\n",
    "\n",
    "   1. Wczytaj obraz \"kwadraty.png\". Wyświetl go.\n",
    "   2. Wykonaj detekcję krawędzi jedną z metod gradientowych. Ważne aby obraz krawędzi był jak najlepszej jakości - co oznacza cienkie (nawet niekoniecznie ciągłe) krawędzie - dla tego przypadku nie powinno być trudne do uzyskania. Wyświetl obraz po detekcji krawędzi.\n",
    "   3. Wykonaj transformatę Hougha obrazu krawędziowego. Wykorzystaj funkcję *hough\\_line*.\n",
    "   4. Wyświetl macierz H. Czy widoczna jest taka liczba maksimów jakiej się spodziewamy?"
   ]
  },
  {
   "cell_type": "code",
   "execution_count": null,
   "metadata": {},
   "outputs": [],
   "source": [
    "squares = cv2.imread('kwadraty.png', cv2.IMREAD_GRAYSCALE)\n",
    "fig, ax = plt.subplots(1,1,figsize=(5,5))\n",
    "ax.imshow(squares, 'gray')\n",
    "ax.axis('off')\n",
    "_ = fig.suptitle('kwadraty.png', weight='bold')"
   ]
  },
  {
   "cell_type": "code",
   "execution_count": null,
   "metadata": {},
   "outputs": [],
   "source": [
    "from skimage.feature import canny as canny\n",
    "squares_edges = cv2.Canny(squares, 100,200)\n",
    "H, th, rh = hough_line(squares_edges)\n",
    "fig, ax = plt.subplots(1,3, figsize=(12,5))\n",
    "for a in ax:\n",
    "    a.axis('off')\n",
    "ax[0].imshow(squares, 'gray'), ax[0].set_title('original squares')\n",
    "ax[1].imshow(squares_edges, 'gray'), ax[1].set_title('skimage canny squares')\n",
    "_=ax[2].imshow(H, 'gray'), ax[2].set_title('hough space')"
   ]
  },
  {
   "cell_type": "markdown",
   "metadata": {},
   "source": [
    " 5. W module skimage.transform dostępna jest funkcja do automatycznej analizy przestrzeni Hougha - wyszukiwania maksimów - *hough\\_line\\_peaks*. Jako parametry przyjmuje ona wyniki funkcji *hough\\_line* (macierz H, theta i rho). Dodatkowo można podać próg powyżej którego punkt uznawany jest za maksimum (_threshold_ - domyslnie jest to połowa maksimum w przestrzeni H) oraz liczbę poszukiwanych maksimów (*num_peaks*). Funkcja zwraca współrzędne maksimów. Wykorzystaj funkcję *hough\\_line\\_peaks* do znalezienia maksimów odpowiadających krawędziom kwadratów.\n",
    " 6. Wyświetl macierz H używając konstrukcji:"
   ]
  },
  {
   "cell_type": "code",
   "execution_count": null,
   "metadata": {},
   "outputs": [],
   "source": [
    "max_value, max_theta, max_rho = hough_line_peaks(H, th, rh)\n",
    "fig, ax = plt.subplots(1,1, figsize=(15,15))\n",
    "ax.set_aspect('equal')\n",
    "ax.axis('off')\n",
    "ax.imshow(H)\n",
    "\n",
    "r,p = H.shape\n",
    "max_theta += np.pi/2\n",
    "max_theta = np.rad2deg(max_theta)\n",
    "max_rho += r / 2\n",
    "plt.imshow(H, 'gray')\n",
    "plt.title('Hough space with maxima denoted by yellow circles')\n",
    "\n",
    "for v, t, r in zip(max_value, max_theta, max_rho):\n",
    "    c = plt.Circle((t, r), 5, color='yellow', fill=False)\n",
    "    ax.add_patch(c)\n",
    "plt.show()"
   ]
  },
  {
   "cell_type": "markdown",
   "metadata": {},
   "source": [
    "]Taki zapis pozwoli na dołożenie annotacji (okręgów) w miejscach znalezionych maksimów. Wyrysowanie okręgu w punkcie x, y (o rozmiarze 10, w czerwonym kolorze, bez wypełnienia środka) realizuje wywołanie: \n",
    "\n",
    "**circle = plt.Circle((x, y), 10, color='r', fill=False)**\n",
    "\n",
    "natomiast dołożenie takiego okręgu do obrazu to:\n",
    "\n",
    "**ax.add_patch(circle)**\n",
    "\n",
    "Zaznacz maksima na obrazie wykorzystując rezultat funkcji *hough\\_line\\_peaks* biorąc pod uwagę, że zwraca ona kąty w radianach z przedziału od -pi/2 do pi/2, a rho z przedziału od -r/2 do r/2 gdzie r to pionowy rozmiar przestrzeni Hougha. "
   ]
  },
  {
   "cell_type": "markdown",
   "metadata": {},
   "source": [
    "7. Istnieje też możliwość przeprowadzenia transformacji Hougha z użyciem biblioteki OpenCV. W bibliotece znajdują się dwie wersje funkcji wyszukującej linie proste - 'klasyczna' - _HoughLines_ oraz probabilistyczna _HoughLinesP_. Zadna z nich nie zwraca przestrzeni Hougha. Wynikiem działania pierwszej jest lista parametrów prostych (krotki zawierające rho, theta). Druga zwraca krotki 4-ro elementowe ze współrzędnymi końców odcinków wykorzystanych do wylicznia parametrów (czyli znalezienia prostej). \n",
    "8. Wyznacz linie obecne na obrazie za pomocą funkcji _HoughLines_. Wykryte linie wyrysuj na obrazie początkowym (UWAGA: wczytanym bez konwersji na graylevel). Do wyświetlania linii wykorzystaj przykładowy kod:"
   ]
  },
  {
   "cell_type": "code",
   "execution_count": null,
   "metadata": {},
   "outputs": [],
   "source": [
    "hough_lines = cv2.HoughLines(squares_edges, 1, np.pi/180, 50)\n",
    "squares_c = cv2.imread(\"kwadraty.png\")\n",
    "\n",
    "for h_line in hough_lines:\n",
    "    rho, theta = h_line[0, 0], h_line[0, 1]\n",
    "    a = np.cos(theta)\n",
    "    b = np.sin(theta)\n",
    "    x0 = a*rho\n",
    "    y0 = b*rho\n",
    "    x1 = int(x0 + 1000*(-b))\n",
    "    y1 = int(y0 + 1000*(a))\n",
    "    x2 = int(x0 - 1000*(-b))\n",
    "    y2 = int(y0 - 1000*(a))  \n",
    "    img_kwadraty_color = cv2.line(squares_c, (x1, y1), (x2, y2), [0, 255, 0], thickness=1)\n",
    "\n",
    "plt.figure(figsize=(8,8))\n",
    "plt.imshow(squares_c)\n",
    "plt.axis('off')\n",
    "plt.title(\"hough lines on image\")\n",
    "plt.show()"
   ]
  },
  {
   "cell_type": "markdown",
   "metadata": {},
   "source": [
    "9. Wyznacz odcinki obecne na obrazie za pomocą funkcji _HoughLinesP_. Wykryte odcinki wyrysuj na obrazie początkowym (UWAGA: wczytanym bez konwersji na graylevel). "
   ]
  },
  {
   "cell_type": "code",
   "execution_count": null,
   "metadata": {},
   "outputs": [],
   "source": [
    "squares_c = cv2.imread('kwadraty.png')\n",
    "squares_c_edge = cv2.Canny(squares_c, 100, 200)\n",
    "h_lines = cv2.HoughLinesP(squares_c_edge, 1, np.pi/180, 10)\n",
    "\n",
    "for h_line in h_lines:\n",
    "    x0, y0, x1, y1 = h_line[0]\n",
    "    squares_c = cv2.line(squares_c, (x0,y0), (x1,y1), (0,255,0), 2)\n",
    "\n",
    "fig, ax = plt.subplots(1,1,figsize=(5,5))\n",
    "ax.imshow(squares_c)\n",
    "ax.axis('off')\n",
    "_=ax.set_title('squares with egdes')"
   ]
  },
  {
   "cell_type": "markdown",
   "metadata": {},
   "source": [
    "### Transformata Hougha dla obrazu rzeczywistego.\n",
    "\n",
    "Bazując na kodzie stworzonym w punkcie B wyszukamy linie na obrazie rzeczywistym.\n",
    "   1. Wczytaj obraz \"lab112.png\". Wyświetl go.\n",
    "   2. Wykorzystując wszystkie poznane techniki przetwarzania obrazów (filtracja, przekształcenia morfologiczne, binaryzację, detekcję krawędzi) wyodrębnij krawędzie samych kwadratów - tak aby były jak najlepszej jakości (cienkie) - jednocześnie eliminując z obrazu zakłócenia.\n",
    "   3. Wykorzystaj funkcje *hough_line* i *hough_line_peaks* do detekcji linii na obrazie, a następnie np. wykorzystując kod z punktu 8 poprzedniego ustępu wyrysuj na oryginalnym obrazie znalezione linie."
   ]
  },
  {
   "cell_type": "code",
   "execution_count": null,
   "metadata": {},
   "outputs": [],
   "source": [
    "lab112 = cv2.imread('lab112.png', cv2.IMREAD_GRAYSCALE)\n",
    "lab112_edges = cv2.Canny(cv2.GaussianBlur(lab112, (5,5), 1), 130, 240)\n",
    "\n",
    "fig, ax = plt.subplots(1,2, figsize=(10,5))\n",
    "for a in ax:\n",
    "    a.axis('off')\n",
    "ax[0].imshow(lab112, 'gray'), ax[0].set_title('lab112.png')\n",
    "_=ax[1].imshow(lab112_edges, 'gray'), ax[1].set_title('after edge detection')"
   ]
  },
  {
   "cell_type": "code",
   "execution_count": null,
   "metadata": {},
   "outputs": [],
   "source": [
    "_H, _th, _rh = hough_line_peaks(*hough_line(lab112_edges))\n",
    "lab112_c = cv2.imread('lab112.png')\n",
    "\n",
    "for t, r in zip(_th, _rh):\n",
    "    a = np.cos(t)\n",
    "    b = np.sin(t)\n",
    "    x0 = a*r\n",
    "    y0 = b*r\n",
    "    x1 = int(x0 + 1000*(-b))\n",
    "    y1 = int(y0 + 1000*(a))\n",
    "    x2 = int(x0 - 1000*(-b))\n",
    "    y2 = int(y0 - 1000*(a))  \n",
    "    lab112_c = cv2.line(lab112_c, (x1, y1), (x2, y2), [0, 255, 0], thickness=2)\n",
    "\n",
    "plt.figure(figsize=(5,5))\n",
    "plt.imshow(lab112_c)\n",
    "plt.axis('off')\n",
    "plt.title('Lab112 with edges')\n",
    "_ = plt.show()"
   ]
  },
  {
   "cell_type": "markdown",
   "metadata": {},
   "source": [
    "4. Wczytaj obraz \"dom.png\". Wypróbuj działanie transformacji Hougha na tym obrazie z wykorzystaniem funkcji _cv2.HoughLinesP_  (oczywiście po odpowiednich przekształceniach). Postaraj się tak przygotować obraz z krawędziami i dobrać parametry aby wyrysować na oryginalnym obrazie odcinki obejmujące zarysy domu. Weź pod uwage dodatkowe parametry funkcji, takie jak:   minLineLength, maxLineGap."
   ]
  },
  {
   "cell_type": "code",
   "execution_count": null,
   "metadata": {},
   "outputs": [],
   "source": [
    "house = cv2.imread('dom.png', cv2.IMREAD_GRAYSCALE)\n",
    "house_edges = cv2.Canny(cv2.GaussianBlur(house, (3,3), 1), 130, 240)\n",
    "\n",
    "fig, ax = plt.subplots(1, 2, figsize=(10,5))\n",
    "for a in ax:\n",
    "    a.axis('off')\n",
    "ax[0].imshow(house,'gray'), ax[0].set_title('dom.png')\n",
    "_=ax[1].imshow(house_edges,'gray'), ax[1].set_title('house edges')"
   ]
  },
  {
   "cell_type": "code",
   "execution_count": null,
   "metadata": {},
   "outputs": [],
   "source": [
    "h_lines = cv2.HoughLinesP(house_edges, rho=1, theta=np.pi/180, threshold=0, minLineLength=0, maxLineGap=0)\n",
    "house_c = cv2.imread('dom.png')\n",
    "\n",
    "for h_line in h_lines:\n",
    "    x0, y0, x1, y1 = h_line[0]\n",
    "    house_c = cv2.line(house_c, (x0,y0), (x1,y1), (0,255,0), 2)\n",
    "\n",
    "plt.figure(figsize=(5,5))\n",
    "plt.imshow(house_c)\n",
    "plt.axis('off')\n",
    "plt.title('House with edges')\n",
    "_=plt.show()"
   ]
  },
  {
   "cell_type": "code",
   "execution_count": null,
   "metadata": {},
   "outputs": [],
   "source": []
  }
 ],
 "metadata": {
  "celltoolbar": "Raw Cell Format",
  "kernelspec": {
   "name": "python394jvsc74a57bd0e8fe35b3ab76bb3d1e4dc538966596083cf5af9b42ba707b3337298d62931766",
   "display_name": "Python 3.9.4 64-bit"
  },
  "language_info": {
   "codemirror_mode": {
    "name": "ipython",
    "version": 3
   },
   "file_extension": ".py",
   "mimetype": "text/x-python",
   "name": "python",
   "nbconvert_exporter": "python",
   "pygments_lexer": "ipython3",
   "version": "3.9.4"
  }
 },
 "nbformat": 4,
 "nbformat_minor": 2
}