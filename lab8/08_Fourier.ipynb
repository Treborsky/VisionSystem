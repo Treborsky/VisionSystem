{
 "cells": [
  {
   "cell_type": "markdown",
   "metadata": {
    "pycharm": {
     "name": "#%% md\n"
    }
   },
   "source": [
    "# Transformata Fouriera dla obrazów cyfrowych. Filtracja w dziedzinie częstotliwości."
   ]
  },
  {
   "cell_type": "markdown",
   "source": [
    "## Cel ćwiczenia\n",
    "\n",
    "- Zapoznanie z wykorzystaniem transformaty Fouriera w przetwarzaniu obrazów cyfrowych.\n",
    "- Zapoznanie z pojęciem F-obrazu (amplitudy i fazy).\n",
    "- Zapoznanie z własnościami transformaty Fouriera.\n",
    "- Zapoznanie z filtracją w dziedzinie częstotliwości.\n",
    "\n",
    "Na jednym z poprzednich ćwiczeń zetknęliśmy się z pojęciem konwolucji.\n",
    "Przykładem może być filtracja dolno i górnoprzepustowa.\n",
    "Operacja ta odpowiada mnożeniu w dziedzinie częstotliwości zgodnie z zależnością:\n",
    "\n",
    "\\begin{equation}\n",
    "\\mathcal{F}(g(x,y)*h(x,y)) = \\mathcal{F}(g(x,y)) \\cdot \\mathcal{F}(h(x,y))\n",
    "\\end{equation}\n",
    "\n",
    "gdzie: $\\mathcal{F}$ oznacza transformatę Fouriera, a $*$ jest splotem.\n",
    "\n",
    "Operacja filtracji w dziedzinie częstotliwości może okazać się bardziej efektywna, jeżeli operacje $fft$ i $ifft$ (odpowiednio szybka transformata Fouriera -- *fast Fourier transform* -- oraz odwrotna szybka transformata Fouriera -- *inverse fast Fourier transform*) zajmą mniej czasu niż klasyczna konwolucja (zazwyczaj ma to miejsce dla dużego obrazu, z dużą maską).\n",
    "\n",
    "Sama filtracja w dziedzinie częstotliwości to mnożenie punktowe całego obrazu przez jedną maskę.\n",
    "\n",
    "W przypadku filtracji w dziedzinie częstotliwości zakłada się, że obraz \"zawija się\" na brzegach, co może powodować pewne artefakty (zostanie to pokazane w trakcie ćwiczenia).\n",
    "\n",
    "W dziedzinie częstotliwości \"działają\" tylko filtry liniowe.\n",
    "Filtry medianowe, maksymalne, minimalne itp. nie mają swoich odpowiedników."
   ],
   "metadata": {
    "collapsed": false,
    "pycharm": {
     "name": "#%% md\n"
    }
   }
  },
  {
   "cell_type": "markdown",
   "source": [
    "## Dwuwymiarowa transformata Fouriera\n",
    "\n",
    "1. Wczytaj plik \"dwieFale.bmp\" w skali szarości.\n",
    "Jest to obraz powstały na podstawie następującej zależności:\n",
    "\n",
    "\\begin{equation}\n",
    "L(m, n) = 128 + 127 \\cdot \\cos(\\frac{2\\pi m}{32}+\\frac{3\\pi}{4}) \\cdot \\cos(\\frac{2\\pi n}{8}-\\frac{\\pi}{2})\n",
    "\\end{equation}<br>\n",
    "\n",
    "gdzie: $m$ i $n$ są odpowiednio numerami wierszy i kolumn.\n",
    "\n",
    "2. Do realizacji dwuwymiarowej transformaty Fouriera służy funkcja `cv2.dft`.\n",
    "Ustaw flagę `flags=cv2.DFT_COMPLEX_OUTPUT`.\n",
    "Wykonaj transformatę na wczytanym obrazie.\n",
    "W ten sposób uzyskuje się tzw. F-obraz.\n",
    "\n",
    "3. Najniższe częstotliwości znajdują się w lewym-górnym rogu obrazu.\n",
    "Dla celów wizualizacji (ale też przetwarzania) często wykonuje się tzw. przesunięcie F-obrazu, które powoduje, że niskie częstotliwości przesuwane są do środka obrazu.\n",
    "Wykorzystaj funkcję `np.fft.fftshift`.\n",
    "Jako pierwszy argument podaj wynik transformaty Fouriera.\n",
    "Jako drugi argument podaj numery osi, wzdłuż których należy wykonać operację.\n",
    "Pierwsza oś odnosi się do wierszy obrazu.\n",
    "Druga oś odnosi się do kolumn obrazu.\n",
    "Trzecia oś to część rzeczywista (`[:, :, 0]`) lub urojona (`[:, :, 1]`).\n",
    "W naszym przypadku argument powinien wyglądać tak `[0,1]`.\n",
    "\n",
    "4. Wyświetl wynik transformaty.\n",
    "Na wspólnym wykresie umieść obraz oryginalny, amplitudę i fazę F-obrazu.\n",
    "Amplitudę i fazę wyznacz za pomocą funkcji `cv2.cartToPolar`.\n",
    "Pierwszym argumentem funkcji jest część rzeczywista wyniku, a drugim urojona.\n",
    "Uwaga. W razie wątpliwości proszę sprawdzić rozmiary rezultatu transformaty Fouriera oraz przesunięcia.\n",
    "\n",
    "5. Dla wizualizacji oblicz logarytm dziesiętny amplitudy: `ALog = np.log10(A + 1)`.\n",
    "Wyświetl go zamiast amplitudy na poprzednim wykresie.\n",
    "\n",
    "6. Wczytaj obrazy *kolo.bmp*, *kwadrat.bmp*, *kwadrat45.bmp*, *trojkat.bmp*.\n",
    "Czy analizując F-obraz można coś powiedzieć o kierunku krawędzi obiektów?\n",
    "\n",
    "7. Sprawdź (empirycznie) poprawność stwierdzenia:\n",
    ">Dwuwymiarowa transformata Fouriera jest złożeniem dwóch transformat jednowymiarowych (wykonanych np. najpierw wierszowo, a później kolumnowo). Jednowymiarowa transformata realizowana jest za pomocą funkcji fft (z bibloteki Numpy).\n",
    ">\n",
    "Wykonaj najpierw transformatę po wierszach: `FRow = np.fft.fft(I, axis=0)`.\n",
    "Następnie po kolumnach: `FCol = np.fft.fft(FRow, axis=1)`.\n",
    "Numpy zwraca wynik jako tablicę liczb zespolonych.\n",
    "Część rzeczywistą można otrzymać w następujący sposób: `FCol.real`, a urojoną: `FCol.imag`.\n",
    "Porównaj tak uzyskany wynik z rezultatem działania funkcji `cv2.dft`.\n",
    "Można to zrobić wizualnie lub z wykorzystaniem funkcji `cv2.absdiff`."
   ],
   "metadata": {
    "collapsed": false,
    "pycharm": {
     "name": "#%% md\n"
    }
   }
  },
  {
   "cell_type": "code",
   "execution_count": null,
   "outputs": [],
   "source": [
    "import cv2\n",
    "from matplotlib import pyplot as plt\n",
    "import numpy as np\n",
    "import math\n",
    "import os\n",
    "\n",
    "# Load required files\n",
    "if not os.path.exists(\"dwieFale.bmp\") :\n",
    "    !wget https://raw.githubusercontent.com/vision-agh/poc_sw/master/08_Fourier/dwieFale.bmp --no-check-certificate\n",
    "if not os.path.exists(\"kolo.bmp\") :\n",
    "    !wget https://raw.githubusercontent.com/vision-agh/poc_sw/master/08_Fourier/kolo.bmp --no-check-certificate\n",
    "if not os.path.exists(\"kwadrat.bmp\") :\n",
    "    !wget https://raw.githubusercontent.com/vision-agh/poc_sw/master/08_Fourier/kwadrat.bmp --no-check-certificate\n",
    "if not os.path.exists(\"kwadrat45.bmp\") :\n",
    "    !wget https://raw.githubusercontent.com/vision-agh/poc_sw/master/08_Fourier/kwadrat45.bmp --no-check-certificate\n",
    "if not os.path.exists(\"kwadratKL.bmp\") :\n",
    "    !wget https://raw.githubusercontent.com/vision-agh/poc_sw/master/08_Fourier/kwadratKL.bmp --no-check-certificate\n",
    "if not os.path.exists(\"kwadratS.bmp\") :\n",
    "    !wget https://raw.githubusercontent.com/vision-agh/poc_sw/master/08_Fourier/kwadratS.bmp --no-check-certificate\n",
    "if not os.path.exists(\"kwadratT.bmp\") :\n",
    "    !wget https://raw.githubusercontent.com/vision-agh/poc_sw/master/08_Fourier/kwadratT.bmp --no-check-certificate\n",
    "if not os.path.exists(\"lena.bmp\") :\n",
    "    !wget https://raw.githubusercontent.com/vision-agh/poc_sw/master/08_Fourier/lena.bmp --no-check-certificate\n",
    "if not os.path.exists(\"trojkat.bmp\") :\n",
    "    !wget https://raw.githubusercontent.com/vision-agh/poc_sw/master/08_Fourier/trojkat.bmp --no-check-certificate\n",
    "if not os.path.exists(\"literki.bmp\") :\n",
    "    !wget https://raw.githubusercontent.com/vision-agh/poc_sw/master/08_Fourier/literki.bmp --no-check-certificate\n",
    "if not os.path.exists(\"wzorA.bmp\") :\n",
    "    !wget https://raw.githubusercontent.com/vision-agh/poc_sw/master/08_Fourier/wzorA.bmp --no-check-certificate\n",
    "\n",
    "I_Fale = cv2.imread('dwieFale.bmp', cv2.IMREAD_GRAYSCALE)\n",
    "\n",
    "figFale, axsFale = plt.subplots()\n",
    "\n",
    "axsFale.imshow(I_Fale, 'gray', vmin=0, vmax=256)\n",
    "axsFale.axis('off')\n",
    "\n",
    "figFale.show()"
   ],
   "metadata": {
    "collapsed": false,
    "pycharm": {
     "name": "#%% Zadanie 1 - wyświetlanie\n"
    }
   }
  },
  {
   "cell_type": "code",
   "execution_count": null,
   "metadata": {},
   "outputs": [],
   "source": [
    "# funkcja do plotowania 3D\n",
    "def plot_mat(mat: np.ndarray, title: str='Matrix as surface', color: str='gray', projection: tuple=(35,30)):\n",
    "    \n",
    "    # get shape\n",
    "    n,m = mat.shape\n",
    "\n",
    "    # create mesh\n",
    "    X, Y = np.meshgrid(np.arange(0,n,1), np.arange(0,m,1))\n",
    "\n",
    "    # plot the stuff\n",
    "    fig, ax = plt.subplots(subplot_kw={'projection':'3d'}, figsize=(10,10))\n",
    "    \n",
    "    if color == 'gray':\n",
    "        surf = ax.plot_wireframe(X,Y,mat, color=color, rstride=1, cstride=1)\n",
    "    else:\n",
    "        surf = ax.plot_surface(X,Y,mat, cmap=color, rstride=1, cstride=1, edgecolor='none')\n",
    "    ax.set_title(title)\n",
    "    ax.view_init(*projection)\n"
   ]
  },
  {
   "cell_type": "code",
   "execution_count": null,
   "metadata": {},
   "outputs": [],
   "source": [
    "def plot_Fimg(img: np.ndarray, title: str='polar decomp of dft of input', cmap: str='gray', plot3d: bool=True):\n",
    "    fimg = cv2.dft(np.float32(img), flags=cv2.DFT_COMPLEX_OUTPUT)\n",
    "    fimg = np.fft.fftshift(fimg, [0,1])\n",
    "    mag, phase = cv2.cartToPolar(fimg[:,:,0], fimg[:,:,1])\n",
    "    if plot3d:\n",
    "        plot_mat(fimg[:,:,0], title='Real part', color=cmap, projection=(20, 15))\n",
    "        plot_mat(fimg[:,:,1], title='Imaginary part', color=cmap, projection=(20, -15))\n",
    "    fig, ax = plt.subplots(1,3, figsize=(15, 5))\n",
    "    ax[0].imshow(img, 'gray'), ax[0].axis('off'), ax[0].set_title('Original image')\n",
    "    ax[1].imshow(mag, 'gray'), ax[1].set_title('Magnitude'), ax[1].axis('off')\n",
    "    ax[2].imshow(phase, 'gray'), ax[2].set_title('Phase'), ax[2].axis('off')\n",
    "    fig.suptitle(title)\n",
    "\n",
    "def plot_Fimg_logmag(img: np.ndarray, title: str='polar decomp of dft of input with log of magnitude'):\n",
    "    fimg = cv2.dft(np.float32(img), flags=cv2.DFT_COMPLEX_OUTPUT)\n",
    "    fimg = np.fft.fftshift(fimg, [0,1])\n",
    "    mag, phase = cv2.cartToPolar(fimg[:,:,0], fimg[:,:,1])\n",
    "    magLog = np.log10(mag+1)\n",
    "    fig, ax = plt.subplots(1,3, figsize=(15, 5))\n",
    "    ax[0].imshow(img, 'gray'), ax[0].axis('off'), ax[0].set_title('Original image')\n",
    "    ax[1].imshow(magLog, 'gray'), ax[1].set_title('Logarithm of magnitude'), ax[1].axis('off')\n",
    "    ax[2].imshow(phase, 'gray'), ax[2].set_title('Phase'), ax[2].axis('off')\n",
    "    fig.suptitle(title)"
   ]
  },
  {
   "cell_type": "code",
   "execution_count": null,
   "metadata": {},
   "outputs": [],
   "source": [
    "plot_mat(I_Fale, 'Fale image wireframe plot')"
   ]
  },
  {
   "cell_type": "code",
   "execution_count": null,
   "metadata": {},
   "outputs": [],
   "source": [
    "# 2. Do realizacji dwuwymiarowej transformaty Fouriera służy funkcja cv2.dft. Ustaw flagę flags=cv2.DFT_COMPLEX_OUTPUT. Wykonaj transformatę na wczytanym obrazie. W ten sposób uzyskuje się tzw. F-obraz.\n",
    "# 3. Najniższe częstotliwości znajdują się w lewym-górnym rogu obrazu. Dla celów wizualizacji (ale też przetwarzania) często wykonuje się tzw. przesunięcie F-obrazu, które powoduje, że niskie częstotliwości przesuwane są do środka obrazu. Wykorzystaj funkcję np.fft.fftshift. Jako pierwszy argument podaj wynik transformaty Fouriera. Jako drugi argument podaj numery osi, wzdłuż których należy wykonać operację. Pierwsza oś odnosi się do wierszy obrazu. Druga oś odnosi się do kolumn obrazu. Trzecia oś to część rzeczywista ([:, :, 0]) lub urojona ([:, :, 1]). W naszym przypadku argument powinien wyglądać tak [0,1].\n",
    "# 4. Wyświetl wynik transformaty. Na wspólnym wykresie umieść obraz oryginalny, amplitudę i fazę F-obrazu. Amplitudę i fazę wyznacz za pomocą funkcji cv2.cartToPolar. Pierwszym argumentem funkcji jest część rzeczywista wyniku, a drugim urojona. Uwaga. W razie wątpliwości proszę sprawdzić rozmiary rezultatu transformaty Fouriera oraz przesunięcia.\n",
    "# 5. Dla wizualizacji oblicz logarytm dziesiętny amplitudy: ALog = np.log10(A + 1). Wyświetl go zamiast amplitudy na poprzednim wykresie.\n",
    "plot_Fimg(I_Fale)\n",
    "plot_Fimg_logmag(I_Fale)"
   ]
  },
  {
   "cell_type": "code",
   "execution_count": null,
   "metadata": {},
   "outputs": [],
   "source": [
    "# 6. Wczytaj obrazy kolo.bmp, kwadrat.bmp, kwadrat45.bmp, trojkat.bmp. Czy analizując F-obraz można coś powiedzieć o kierunku krawędzi obiektów?\n",
    "kolo = cv2.imread('kolo.bmp', cv2.IMREAD_GRAYSCALE)\n",
    "kwadrat = cv2.imread('kwadrat.bmp', cv2.IMREAD_GRAYSCALE)\n",
    "kwadrat45 = cv2.imread('kwadrat45.bmp', cv2.IMREAD_GRAYSCALE)\n",
    "trojkat = cv2.imread('trojkat.bmp', cv2.IMREAD_GRAYSCALE)"
   ]
  },
  {
   "cell_type": "code",
   "execution_count": null,
   "metadata": {},
   "outputs": [],
   "source": [
    "# obraz kolo\n",
    "plot_Fimg(kolo, cmap='viridis')\n",
    "plot_Fimg_logmag(kolo)"
   ]
  },
  {
   "cell_type": "code",
   "execution_count": null,
   "metadata": {},
   "outputs": [],
   "source": [
    "# obraz kwadrat\n",
    "plot_Fimg(kwadrat, cmap='viridis')\n",
    "plot_Fimg_logmag(kwadrat)"
   ]
  },
  {
   "cell_type": "code",
   "execution_count": null,
   "metadata": {},
   "outputs": [],
   "source": [
    "# obraz kwadrat45\n",
    "plot_Fimg(kwadrat45, cmap='viridis')\n",
    "plot_Fimg_logmag(kwadrat45)"
   ]
  },
  {
   "cell_type": "code",
   "execution_count": null,
   "metadata": {},
   "outputs": [],
   "source": [
    "# obraz trojkat\n",
    "plot_Fimg(trojkat, cmap='viridis')\n",
    "plot_Fimg_logmag(trojkat)"
   ]
  },
  {
   "cell_type": "code",
   "execution_count": null,
   "metadata": {},
   "outputs": [],
   "source": [
    "# 7. Sprawdź (empirycznie) poprawność stwierdzenia:\n",
    "#Dwuwymiarowa transformata Fouriera jest złożeniem dwóch transformat jednowymiarowych (wykonanych np. najpierw wierszowo, a później kolumnowo). Jednowymiarowa transformata realizowana jest za #pomocą funkcji fft (z bibloteki Numpy).\n",
    "#Wykonaj najpierw transformatę po wierszach: FRow = np.fft.fft(I, axis=0). Następnie po kolumnach: FCol = np.fft.fft(FRow, axis=1). Numpy zwraca wynik jako tablicę liczb zespolonych. Część #rzeczywistą można otrzymać w następujący sposób: FCol.real, a urojoną: FCol.imag. Porównaj tak uzyskany wynik z rezultatem działania funkcji cv2.dft. Można to zrobić wizualnie lub z #wykorzystaniem funkcji cv2.absdiff.\n",
    "img = kolo\n",
    "\n",
    "# dft from cv2 module\n",
    "dft_kolo = cv2.dft(np.float32(img), flags=cv2.DFT_COMPLEX_OUTPUT)\n",
    "dft_kolo_rel = dft_kolo[:,:,0]\n",
    "dft_kolo_img = dft_kolo[:,:,1]\n",
    "\n",
    "# fft from numpy module\n",
    "fft_row = np.fft.fft(img, axis=0)\n",
    "fft_kolo = np.fft.fft(fft_row, axis=1)\n",
    "\n",
    "# check if the real and imaginary parts are equal\n",
    "mse_rel = (np.square(dft_kolo_rel - fft_kolo.real)).mean(axis=None)\n",
    "mse_img = (np.square(dft_kolo_img- fft_kolo.imag)).mean(axis=None)\n",
    "\n",
    "# print the error\n",
    "print('Real error     : {:.8f}\\nImaginary error: {:.8f}'.format(mse_rel, mse_img))\n",
    "\n",
    "# show the absolute difference between the images\n",
    "fig, ax = plt.subplots(1,2, figsize=(10,5))\n",
    "ax[0].imshow(np.abs(dft_kolo_rel - fft_kolo.real), 'gray'), ax[0].axis('off'), ax[0].set_title('Real part difference')\n",
    "_ = ax[1].imshow(np.abs(dft_kolo_img - fft_kolo.imag), 'gray'), ax[1].axis('off'), ax[1].set_title('Imaginary part difference')"
   ]
  },
  {
   "source": [
    "## Wnioski i obserwacje:\n",
    "- działanie transformaty Fouriera najepierw na rzędach, a potem na kolumnach daje (prawie) taki sam efekt jak działanie dwuwymiarowej transformaty."
   ],
   "cell_type": "markdown",
   "metadata": {}
  },
  {
   "cell_type": "markdown",
   "source": [
    "## Własności dwuwymiarowej transformaty Fouriera\n",
    "\n",
    "1. Zbadaj jak zmienia się F-obraz (amplituda i faza) podczas następujących operacji: translacja, rotacja, zmiana rozmiaru, kombinacja liniowa.\n",
    "Wykorzystaj stworzony wcześniej kod.<br>\n",
    "Uwaga. Należy użyć przygotowanych obrazów, a nie \"generować\" własne.\n",
    "2. Do badania translacji wykorzystaj obrazy *kwadrat.bmp* i *kwadratT.bmp*.\n",
    "3. Przy badaniu rotacji wykorzystaj obrazy *kwadrat.bmp* i *kwadrat45.bmp*.\n",
    "4. Przy badaniu zmiany rozmiaru wykorzystaj obrazy *kwadrat.bmp* i *kwadratS.bmp*.\n",
    "5. Przy badaniu kombinacji liniowej wykorzystaj obrazy *kwadrat.bmp*, *kwadrat45.bmp* i *kwadratKL.bmp*."
   ],
   "metadata": {
    "collapsed": false,
    "pycharm": {
     "name": "#%% md\n"
    }
   }
  },
  {
   "cell_type": "code",
   "execution_count": null,
   "metadata": {},
   "outputs": [],
   "source": [
    "# oryginalny kwadrat\n",
    "plot_Fimg(kwadrat, plot3d=False)"
   ]
  },
  {
   "cell_type": "code",
   "execution_count": null,
   "outputs": [],
   "source": [
    "# translacja\n",
    "kwadratT = cv2.imread('kwadratT.bmp', cv2.IMREAD_GRAYSCALE)\n",
    "plot_Fimg(kwadratT, plot3d=False)"
   ],
   "metadata": {
    "collapsed": false,
    "pycharm": {
     "name": "#%% Zadanie 2 - własności\n"
    }
   }
  },
  {
   "cell_type": "code",
   "execution_count": null,
   "metadata": {},
   "outputs": [],
   "source": [
    "# rotacja\n",
    "plot_Fimg(kwadrat45, plot3d=False)"
   ]
  },
  {
   "cell_type": "code",
   "execution_count": null,
   "metadata": {},
   "outputs": [],
   "source": [
    "# skalowanie\n",
    "kwadratS = cv2.imread('kwadratS.bmp', cv2.IMREAD_GRAYSCALE)\n",
    "plot_Fimg(kwadratS, plot3d=False)"
   ]
  },
  {
   "cell_type": "code",
   "execution_count": null,
   "metadata": {},
   "outputs": [],
   "source": [
    "# kombinacja liniowa\n",
    "kwadratKL = cv2.imread('kwadratKL.bmp', cv2.IMREAD_GRAYSCALE)\n",
    "plot_Fimg(kwadratKL, plot3d=False)"
   ]
  },
  {
   "source": [
    "## Wnioski i obserwacje:\n",
    "- translacja powoduje zmianę fazy w coś przypominającego poprzeczne paski w każdej ćwiartce -> przesunięcie o jakiś kąt,\n",
    "- rotacja powoduje w fazie niejako przesunięcie i utworzenie dwóch 'przekątnych kwadratu' -> obrót o jakiś kąt,\n",
    "- skalowanie organizuje fazę w jednorodny wzór po przekątnej -> zmniejsza wsp skalowania kąta przy sinusach/kosinusach,\n",
    "- kombinacja liniowa transformacji daje efekt składowych kombinacji w wykresie fazy."
   ],
   "cell_type": "markdown",
   "metadata": {}
  },
  {
   "cell_type": "markdown",
   "source": [
    "## Odwrotna dwuwymiarowa transformata Fouriera\n",
    "\n",
    "1. Wykorzystaj stworzony wcześniej kod. Wybierz dowolny obraz np \"kolo.bmp\".\n",
    "2. Przed realizacją odwrotnego przekszałcenia należy wykonać odwrotne przesunięcie.\n",
    "Wykorzystaj funkcję `np.fft.ifftshift`.\n",
    "Pierwszym argumentem jest wynik transformaty Fouriera.\n",
    "Drugim argumentem są numery osi, wzdłuż których należy wykonać operację.\n",
    "3. Wykonaj odwrotną transformatę Fouriera za pomocą funkcji `cv2.idft`.\n",
    "Jako drugi argument przekaż następujące flagi: `flags=cv2.DFT_SCALE | cv2.DFT_COMPLEX_OUTPUT`.\n",
    "Wynik może mieć małą część urojoną przez błędy numeryczne.\n",
    "Aby pozbyć się tego efekty należy obliczyć amplitudę:\n",
    "        imgIFFT = cv2.magnitude(ifft[:, :, 0], ifft[:, :, 1])\n",
    "Następnie wynik należy zaokrąglić (`np.round`) i zrzutować do typu `uint8`.\n",
    "4. Wyświetl wynik.\n",
    "Sprawdź (wizualnie i poprzez odjęcie) czy obraz oryginalny i po przekształceniach są takie same."
   ],
   "metadata": {
    "collapsed": false,
    "pycharm": {
     "name": "#%% md\n"
    }
   }
  },
  {
   "cell_type": "code",
   "execution_count": null,
   "outputs": [],
   "source": [
    "# calculate the transform\n",
    "kolo_fft = cv2.dft(np.float32(kolo), flags=cv2.DFT_COMPLEX_OUTPUT)\n",
    "\n",
    "# shift the transform\n",
    "kolo_shift = np.fft.fftshift(kolo_fft, [0,1])\n",
    "\n",
    "# display the shifted dft\n",
    "fig, ax = plt.subplots(1, 2, figsize=(10,5))\n",
    "ax[0].imshow(kolo_shift[:,:,0], 'gray'), ax[0].axis('off'), ax[0].set_title('dft of kolo (real part)')\n",
    "_ = ax[1].imshow(kolo_shift[:,:,1], 'gray'), ax[1].axis('off'), ax[1].set_title('dft of kolo (imaginary part)')\n",
    "\n",
    "# shift the image back\n",
    "kolo_backshift = np.fft.ifftshift(kolo_fft, [0,1])\n",
    "\n",
    "# calculate the inverse dft\n",
    "kolo_ifft = cv2.idft(kolo_backshift, flags=cv2.DFT_SCALE | cv2.DFT_COMPLEX_OUTPUT)\n",
    "kolo_ifft = np.round(cv2.magnitude(kolo_ifft[:,:,0], kolo_ifft[:,:,1]))\n",
    "kolo_ifft = np.array(kolo_ifft, dtype=np.uint8)\n",
    "\n",
    "# display the iverse transform and compare to the original image\n",
    "fig, ax = plt.subplots(1, 3, figsize=(15,5))\n",
    "ax[0].imshow(kolo, 'gray'), ax[0].axis('off'), ax[0].set_title('Original')\n",
    "ax[1].imshow(kolo_ifft, 'gray'), ax[1].axis('off'), ax[1].set_title('After dft and inverse dft')\n",
    "_ = ax[2].imshow(np.abs(kolo_ifft-kolo), 'gray'), ax[2].axis('off'), ax[2].set_title('The difference')\n",
    "\n",
    "# calculate the mean square error and print it\n",
    "# check if the real and imaginary parts are equal\n",
    "mse_ifft = (np.square(kolo - kolo_ifft)).mean(axis=None)\n",
    "\n",
    "# print the error\n",
    "print('Mean square error between both images: {:.17f}'.format(mse_ifft))"
   ],
   "metadata": {
    "collapsed": false,
    "pycharm": {
     "name": "#%% Zadanie 3 - odwrotna\n"
    }
   }
  },
  {
   "source": [
    "## Wnioski, obserwacje:\n",
    "- błąd średniokwadratowy jest na poziomie zera maszynowego (mniej niż $1.0\\cdot E^{-17}$),\n",
    "- nie ma widocznych różnic między obrazami po tych wszystkich przekształceniach."
   ],
   "cell_type": "markdown",
   "metadata": {}
  },
  {
   "cell_type": "markdown",
   "source": [
    "## Filtracja obrazu w dziedzinie częstotliwości\n",
    "\n",
    "1. Wczytaj obraz \"lena.bmp\" w skali szarości.\n",
    "Wykonaj transformatę Fouriera.\n",
    "Wykorzystaj stworzony poprzednio kod.\n",
    "Wyświetl obraz oryginalny, amplitudę (w skali logarytmicznej) i fazę.\n",
    "\n",
    "2. Przeprowadź filtrację dolnoprzepustową - usuń górne częstotliwości.\n",
    "Dla F-obrazu po operacji przesunięcia (`fftshift`) niskie częstotliwości leżą w jego centrum.\n",
    "\n",
    "3. Na początku stwórz filtr \"kołowy\", dolnoprzepustowy.\n",
    "Należy wygenerować macierze opisujące przestrzeń w dziedzinie częstotliwości.\n",
    "Ich rozmiar musi być taki sam jak rozmiar przetwarzanego obrazu.\n",
    "        lenaSize = I_Lena.shape\n",
    "        FSpaceRows = 2 * np.fft.fftshift(np.fft.fftfreq(lenaSize[0]))\n",
    "        FSpaceRowsM = np.outer(FSpaceRows, np.ones([1, lenaSize[1]]))\n",
    "        FSpaceCols = 2 * np.fft.fftshift(np.fft.fftfreq(lenaSize[1]))\n",
    "        FSpaceColsM = np.outer(np.ones([1, lenaSize[0]]), FSpaceCols)\n",
    "Powyższy kod wygeneruje dwie znormalizowane macierze częstotliwości: *FSpaceRowsM* i *FSpaceColsM*.\n",
    "Następnie należy wyznaczyć macierz zawierającą \"odległość\" od składowej stałej.\n",
    "        FreqR = np.sqrt(np.square(FSpaceRowsM) + np.square(FSpaceColsM))\n",
    "\n",
    "Uwagi:\n",
    "- funkcja `fftfreq` generuje wektor częstotliwości $[-0.5, 0.5]$ o określonym rozmiarze, przy czym układ wartości jest taki, że najpierw od 0 do 0.5, a potem od -0.5 do 0,\n",
    "- operacja `fftshift` zmienia ten układ na $[-0.5, 0.5]$,\n",
    "- mnożenie przez 2 ustala ostatecznie zakres na $[-1, 1]$,\n",
    "- operacja `outer` to tzw. iloczyn zewnętrzy dwóch wektorów, w naszym przypadku powoduje, że wektor pionowy lub poziomy jest \"powielany\" odpowiednią liczbę razy.   \n",
    "- sugeruje się, aby przyglądnąć się jak wygląda macierz `FreqR` - czy to w debugerze, czy poprzez wizualizację.\n",
    "\n",
    "4. Teraz należy wybrać interesujący zakres.\n",
    "Tu można zdefiniować typ filtru (dolno, górno, pasmowoprzepustowy).\n",
    "\n",
    "        FilterF = FreqR <= 0.1\n",
    "\n",
    "Filtr należy zwizualizować:\n",
    "\n",
    "        figFilter = plt.figure()\n",
    "        axsFilter = figFilter.add_subplot(projection='3d')\n",
    "        axsFilter.plot_surface(FSpaceRowsM, FSpaceColsM, FilterF, rstride=1, cstride=1, cmap=plt.get_cmap('gray'), linewidth=0)\n",
    "        figFilter.show()\n",
    "\n",
    "4. Wykonaj właściwą filtrację, czyli mnożenie F-obrazu przez filtr FilterF.\n",
    "Trzeba pamiętać, że F-obraz ma 2 kanały (rzeczywisty i urojony).\n",
    "By mnożenie było możliwe należy więc powielić filtr również na 2 kanały.\n",
    "\n",
    "        FilterF3 = np.repeat(FilterF[:, :, np.newaxis], 2, axis=2)\n",
    "\n",
    "5. Wykonaj operację odwrotnego przesunięcia i odwrotnej transformaty.\n",
    "Oblicz wartość bezwzględną wyniku.\n",
    "Wykorzystaj funkcję `cv2.magnitude`.\n",
    "Pierwszym argumentem jest część rzeczywista.\n",
    "Drugim argumentem jest część urojona.\n",
    "Wynik wyświetl.\n",
    "\n",
    "6. Poeksperymentuj z rozmiarem filtru (promieniem).\n",
    "Zaimplementuj filtr górnoprzepustowy (zmiana znaku przy warunku na odległość) oraz pasmowoprzepustowy (dwa warunki na promień połączone operatorem AND '&' ).\n",
    "Wykonaj co najmniej trzy filtry i wyświetl wyniki.\n",
    "\n",
    "7. W ten sposób zaimplementowana filtracja wprowadza pewne artefakty w postaci \"pierścieni\" wokół krawędzi.\n",
    "Zapobiec temu zjawisku można poprzez odpowiednie \"modelowanie\" filtra.\n",
    "W tym celu wykorzystać należy okna, np. Hamminga, Hanninga, Chebysheva (znane z przetwarzania sygnałów 1D).\n",
    "Zagadnienie to jest tematem zadania domowego do tego ćwiczenia."
   ],
   "metadata": {
    "collapsed": false,
    "pycharm": {
     "name": "#%% md\n"
    }
   }
  },
  {
   "cell_type": "code",
   "execution_count": null,
   "metadata": {},
   "outputs": [],
   "source": [
    "def low_filter(src, filter_type='lowpass', r=0.1):\n",
    "    srcDFT = cv2.dft(np.float32(src),flags=cv2.DFT_COMPLEX_OUTPUT)\n",
    "    srcDFT = np.fft.fftshift(srcDFT, [0,1])\n",
    "\n",
    "    size = src.shape\n",
    "    FSpaceRows = 2 * np.fft.fftshift(np.fft.fftfreq(size[0]))\n",
    "    FSpaceRowsM = np.outer(FSpaceRows, np.ones([1, size[1]]))\n",
    "    FSpaceCols = 2 * np.fft.fftshift(np.fft.fftfreq(size[1]))\n",
    "    FSpaceColsM = np.outer(np.ones([1, size[0]]), FSpaceCols)\n",
    "    \n",
    "    FreqR = np.sqrt(np.square(FSpaceRowsM) + np.square(FSpaceColsM))\n",
    "    \n",
    "    FilterF = FreqR <= r\n",
    "\n",
    "    figFilter = plt.figure()\n",
    "    axsFilter = figFilter.add_subplot(projection='3d')\n",
    "    axsFilter.plot_surface(FSpaceRowsM, FSpaceColsM, FilterF, rstride=1, cstride=1, cmap=plt.get_cmap('gray'), linewidth=0)\n",
    "    \n",
    "    FilterF3 = np.repeat(FilterF[:, :, np.newaxis], 2, axis=2)\n",
    "    \n",
    "    srcDFT = srcDFT*FilterF3\n",
    "    srcIFFT = np.fft.ifftshift(srcDFT, [0,1])\n",
    "    dst = cv2.idft(srcIFFT, flags=cv2.DFT_SCALE | cv2.DFT_COMPLEX_OUTPUT)\n",
    "    dst = cv2.magnitude(dst[:, :, 0], dst[:, :, 1])\n",
    "    dst = np.round(dst).astype('uint8')\n",
    "\n",
    "    return dst\n",
    "\n",
    "def high_filter(src, r=0.7):\n",
    "    srcDFT = cv2.dft(np.float32(src),flags=cv2.DFT_COMPLEX_OUTPUT)\n",
    "    srcDFT = np.fft.fftshift(srcDFT, [0,1])\n",
    "\n",
    "    size = src.shape\n",
    "    FSpaceRows = 2 * np.fft.fftshift(np.fft.fftfreq(size[0]))\n",
    "    FSpaceRowsM = np.outer(FSpaceRows, np.ones([1, size[1]]))\n",
    "    FSpaceCols = 2 * np.fft.fftshift(np.fft.fftfreq(size[1]))\n",
    "    FSpaceColsM = np.outer(np.ones([1, size[0]]), FSpaceCols)\n",
    "    \n",
    "    FreqR = np.sqrt(np.square(FSpaceRowsM) + np.square(FSpaceColsM))\n",
    "    \n",
    "    \n",
    "    FilterF = FreqR >= r\n",
    "    \n",
    "    figFilter = plt.figure()\n",
    "    axsFilter = figFilter.add_subplot(projection='3d')\n",
    "    axsFilter.plot_surface(FSpaceRowsM, FSpaceColsM, FilterF, rstride=1, cstride=1, cmap=plt.get_cmap('gray'), linewidth=0)\n",
    "    \n",
    "    FilterF3 = np.repeat(FilterF[:, :, np.newaxis], 2, axis=2)\n",
    "    \n",
    "    srcDFT = srcDFT*FilterF3\n",
    "    srcIFFT = np.fft.ifftshift(srcDFT, [0,1])\n",
    "    dst = cv2.idft(srcIFFT, flags=cv2.DFT_SCALE | cv2.DFT_COMPLEX_OUTPUT)\n",
    "    dst = cv2.magnitude(dst[:, :, 0], dst[:, :, 1])\n",
    "    dst = np.round(dst).astype('uint8')\n",
    "\n",
    "    return dst\n",
    "\n",
    "def bandpass_filter(src, r_low=0.1, r_high=0.7):\n",
    "    \n",
    "    dst = low_filter(src, r_low)\n",
    "    dst = high_filter(src, r_high)\n",
    "\n",
    "    return dst"
   ]
  },
  {
   "cell_type": "code",
   "execution_count": null,
   "outputs": [],
   "source": [
    "# load lena\n",
    "lena = cv2.imread('lena.bmp', cv2.IMREAD_GRAYSCALE)"
   ],
   "metadata": {
    "collapsed": false,
    "pycharm": {
     "name": "#%% Zadanie 4 - filtracja\n"
    }
   }
  },
  {
   "cell_type": "code",
   "execution_count": null,
   "metadata": {},
   "outputs": [],
   "source": [
    "# filter the image\n",
    "lena_lowpass = low_filter(lena)\n",
    "\n",
    "# display the image and the differences\n",
    "fig, ax = plt.subplots(1, 3, figsize=(15, 5))\n",
    "ax[0].imshow(lena, 'gray'), ax[0].axis('off'), ax[0].set_title('Original')\n",
    "ax[1].imshow(lena_lowpass, 'gray'), ax[1].axis('off'), ax[1].set_title('After low pass filtration')\n",
    "_ = ax[2].imshow(np.abs(lena-lena_lowpass), 'gray'), ax[2].axis('off'), ax[2].set_title('The difference')"
   ]
  },
  {
   "cell_type": "code",
   "execution_count": null,
   "metadata": {},
   "outputs": [],
   "source": [
    "# filter the image\n",
    "lena_bandpass = bandpass_filter(lena)\n",
    "\n",
    "# display the image and the differences\n",
    "fig, ax = plt.subplots(1, 3, figsize=(15, 5))\n",
    "ax[0].imshow(lena, 'gray'), ax[0].axis('off'), ax[0].set_title('Original')\n",
    "ax[1].imshow(lena_bandpass, 'gray'), ax[1].axis('off'), ax[1].set_title('After band pass filtration')\n",
    "_ = ax[2].imshow(np.abs(lena-lena_bandpass), 'gray'), ax[2].axis('off'), ax[2].set_title('The difference')"
   ]
  },
  {
   "cell_type": "code",
   "execution_count": null,
   "metadata": {},
   "outputs": [],
   "source": [
    "# filter the image\n",
    "lena_highpass = high_filter(lena)\n",
    "\n",
    "# display the image and the differences\n",
    "fig, ax = plt.subplots(1, 3, figsize=(15, 5))\n",
    "ax[0].imshow(lena, 'gray'), ax[0].axis('off'), ax[0].set_title('Original')\n",
    "ax[1].imshow(lena_highpass, 'gray'), ax[1].axis('off'), ax[1].set_title('After high pass filtration')\n",
    "_ = ax[2].imshow(np.abs(lena-lena_highpass), 'gray'), ax[2].axis('off'), ax[2].set_title('The difference')`"
   ]
  },
  {
   "cell_type": "markdown",
   "source": [
    "## Implementacja wyszukiwania wzorca za pomocą FFT\n",
    "\n",
    "1. Wczytaj w skali szarości i wyświetl obrazy *literki.bmp* i *wzorA.bmp*.\n",
    "\n",
    "2. Wyznacz transformatę Fouriera obrazu *literki.bmp*.\n",
    "\n",
    "3. Obróć drugi obraz o $180^\\circ$.\n",
    "Zastosuj funkcję `np.rot90`.\n",
    "Pierwszym argumentem jest obracana macierz, a drugim liczba obrotów o $90^\\circ$.\n",
    "\n",
    "4. Należy wyznaczyć transformatę Fouriera obróconego obrazu w taki sposób, żeby miała ona taki sam rozmiar jak pierwszy obraz.\n",
    "W tym celu należy zastosować *Zero Padding*.\n",
    "Operacja ta polega na uzupełnieniu obrazu zerami do oczekiwanego rozmiaru.\n",
    "Uzupełnij obraz zerami z **prawej** strony i z **dołu**.\n",
    "W tym celu należy wykorzystać funkcję `cv2.copyMakeBorder`.\n",
    "    - Pierwszym argumentem jest obraz wejściowy.\n",
    "    - Drugim argumentem jest liczba wierszy u góry.\n",
    "    - Trzecim argumentem jest liczba wierszy u dołu.\n",
    "    - Czwartym argumentem jest liczba kolumn z lewej.\n",
    "    - Piątym argumentem jest liczba kolumn z prawej.\n",
    "    - Szóstym argumentem jest flaga typu wypełnienia.\n",
    "    Dla stałej wartości podaj `cv2.BORDER_CONSTANT`.\n",
    "    - Siódmym argementem jest wartość pikseli w ramce.\n",
    "    Przekaż `value=0`.\n",
    "\n",
    "5. Wyznacz transformatę Fouriera obrazu stworzonego w poprzednim punkcie.\n",
    "\n",
    "6. Wyniki obu transformat należy przekonwertować do liczb zespolonych.\n",
    "Obecnie jest to dwukanałowa macierz.\n",
    "Pierwszy kanał odpowiada za część rzeczywistą.\n",
    "Drugi kanał odpowiada za część urojoną.\n",
    "Aby to osiągnąć wystarczy wykonać działanie:\n",
    "        Complex = Real + Imag * 1j\n",
    "\n",
    "7. Przemnóż ze sobą zespolone wyniki transformat.\n",
    "\n",
    "8. Wynik należy powrotnie przekształcić do dwukanałowej macierzy.\n",
    "Aby to zrobić wykonaj operację:\n",
    "        CompMat = cv2.merge([np.real(Complex), np.imag(Complex)])\n",
    "\n",
    "9. Wykonaj odwrotną transformatę Fouriera.\n",
    "Dodaj flagę `flags=cv2.DFT_COMPLEX_INPUT`.\n",
    "\n",
    "10. Oblicz wartość bezwzględną wyniku.\n",
    "\n",
    "11. Wykonaj morfologiczną operację **Top-Hat**, by znaleźć maksima lokalne.\n",
    "Operacja ta zostanie dokładnej wyjaśniona w jednym z kolejnych ćwiczeń.\n",
    "W tym celu wykorzystaj operację:\n",
    "        cv2.morphologyEx(correlation, cv2.MORPH_TOPHAT, np.ones((3, 3), np.uint8))\n",
    "\n",
    "12. Wyświetl obok siebie obraz wejściowy i wynik wykonanych operacji.\n",
    "Czy możesz wskazać położenie wzoru na podstawie drugiego obrazu?"
   ],
   "metadata": {
    "collapsed": false,
    "pycharm": {
     "name": "#%% md\n"
    }
   }
  },
  {
   "cell_type": "code",
   "execution_count": null,
   "outputs": [],
   "source": [
    "liter = cv2.imread('literki.bmp', cv2.IMREAD_GRAYSCALE)\n",
    "wzora = cv2.imread('wzorA.bmp', cv2.IMREAD_GRAYSCALE)"
   ],
   "metadata": {
    "collapsed": false,
    "pycharm": {
     "name": "#%% Zadanie 4 - wyszukiwanie wzorca\n"
    }
   }
  },
  {
   "cell_type": "code",
   "execution_count": null,
   "metadata": {},
   "outputs": [],
   "source": [
    "dft_liter = cv2.dft(np.float32(liter), flags=cv2.DFT_COMPLEX_OUTPUT)\n",
    "dft_liter = np.fft.fftshift(dft_liter, [0,1])"
   ]
  },
  {
   "cell_type": "code",
   "execution_count": null,
   "metadata": {},
   "outputs": [],
   "source": [
    "wzora_pi_flip = np.rot90(wzora, 2)"
   ]
  },
  {
   "cell_type": "code",
   "execution_count": null,
   "metadata": {},
   "outputs": [],
   "source": [
    "n0, m0 = wzora_pi_flip.shape\n",
    "n1, m1 = liter.shape\n",
    "wzora_pi_flip_pad = cv2.copyMakeBorder(wzora_pi_flip, 0, n1-n0, 0, m1-m0, cv2.BORDER_CONSTANT, value=0)\n",
    "pad = wzora_pi_flip_pad"
   ]
  },
  {
   "cell_type": "code",
   "execution_count": null,
   "metadata": {},
   "outputs": [],
   "source": [
    "dft_pad = cv2.dft(np.float32(pad), flags=cv2.DFT_COMPLEX_OUTPUT)\n",
    "dft_pad = np.fft.fftshift(dft_pad, [0,1])"
   ]
  },
  {
   "cell_type": "code",
   "execution_count": null,
   "metadata": {},
   "outputs": [],
   "source": [
    "real_pad = dft_pad[:,:,0]\n",
    "imag_pad = dft_pad[:,:,1]\n",
    "Complex_pad = real_pad + imag_pad*1j"
   ]
  },
  {
   "cell_type": "code",
   "execution_count": null,
   "metadata": {},
   "outputs": [],
   "source": [
    "real_liter = dft_liter[:,:,0]\n",
    "imag_liter = dft_liter[:,:,1]\n",
    "Complex_liter = real_liter + imag_liter*1j"
   ]
  },
  {
   "cell_type": "code",
   "execution_count": null,
   "metadata": {},
   "outputs": [],
   "source": [
    "Complex = Complex_pad*Complex_liter"
   ]
  },
  {
   "cell_type": "code",
   "execution_count": null,
   "metadata": {},
   "outputs": [],
   "source": [
    "CompMat = cv2.merge((np.real(Complex), np.imag(Complex)))"
   ]
  },
  {
   "cell_type": "code",
   "execution_count": null,
   "metadata": {},
   "outputs": [],
   "source": [
    "correlation = cv2.idft(CompMat, flags=cv2.DFT_SCALE | cv2.DFT_COMPLEX_OUTPUT | cv2.DFT_COMPLEX_INPUT)\n",
    "correlation = np.fft.ifftshift(correlation, [0, 1])\n",
    "correlation = np.abs(correlation)"
   ]
  },
  {
   "cell_type": "code",
   "execution_count": null,
   "metadata": {},
   "outputs": [],
   "source": [
    "search = cv2.morphologyEx(correlation, cv2.MORPH_TOPHAT, np.ones((3, 3), np.uint8))\n",
    "search = cv2.magnitude(search[:,:,0], search[:,:,1])"
   ]
  },
  {
   "cell_type": "code",
   "execution_count": null,
   "metadata": {},
   "outputs": [],
   "source": [
    "fig, ax = plt.subplots(1,2, figsize=(10,5.2))\n",
    "ax[0].imshow(liter, 'gray'), ax[0].axis('off')\n",
    "ax[1].imshow(search, 'gray'), ax[1].axis('off')\n",
    "_ = fig.suptitle('Template detection in an image')"
   ]
  },
  {
   "source": [
    "## Wnioski i obserwacje:\n",
    "- udało się dokonać rozpoznania wzoru, jednak wynik ten bynajmniej nie jest znakomity,\n",
    "- metoda ta zaznaczyła na obrazie wiele krawędzi, które pokrywają się z tymi ze wzoru."
   ],
   "cell_type": "markdown",
   "metadata": {}
  }
 ],
 "metadata": {
  "kernelspec": {
   "name": "python386jvsc74a57bd0e14027d0ffbc20fb9897cfb50146796373f40b6d8e201c539aa0dc34ac4b88b2",
   "display_name": "Python 3.8.6 64-bit"
  },
  "metadata": {
   "interpreter": {
    "hash": "e14027d0ffbc20fb9897cfb50146796373f40b6d8e201c539aa0dc34ac4b88b2"
   }
  }
 },
 "nbformat": 4,
 "nbformat_minor": 4
}